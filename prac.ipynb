{
 "cells": [
  {
   "cell_type": "markdown",
   "metadata": {},
   "source": []
  },
  {
   "cell_type": "code",
   "execution_count": 1,
   "metadata": {},
   "outputs": [
    {
     "name": "stdout",
     "output_type": "stream",
     "text": [
      "사당행 열차가 들어오고 있습니다\n",
      "신도림행 열차가 들어오고 있습니다\n",
      "인천행 열차가 들어오고 있습니다\n"
     ]
    }
   ],
   "source": [
    "# command+/ 하면 전체 주석처리\n",
    "station=[\"사당\",\"신도림\",\"인천\"]\n",
    "for k in station:\n",
    "    print(\"{}행 열차가 들어오고 있습니다\".format(k))"
   ]
  },
  {
   "cell_type": "code",
   "execution_count": 13,
   "metadata": {},
   "outputs": [],
   "source": [
    "from random import *"
   ]
  },
  {
   "cell_type": "code",
   "execution_count": 19,
   "metadata": {},
   "outputs": [
    {
     "name": "stdout",
     "output_type": "stream",
     "text": [
      "0.9776223232141824\n",
      "5.124300285641393\n"
     ]
    }
   ],
   "source": [
    "# 0~1 사이의 임의의 값 생성\n",
    "print(random()) \n",
    "# 0~10 사이의 임의의 값 생성\n",
    "print(random()*10) "
   ]
  },
  {
   "cell_type": "code",
   "execution_count": 20,
   "metadata": {},
   "outputs": [
    {
     "name": "stdout",
     "output_type": "stream",
     "text": [
      "33\n"
     ]
    }
   ],
   "source": [
    "print(randint(1,45))"
   ]
  },
  {
   "cell_type": "code",
   "execution_count": 41,
   "metadata": {},
   "outputs": [
    {
     "name": "stdout",
     "output_type": "stream",
     "text": [
      "[33, 7, 41, 38, 40, 10]\n"
     ]
    }
   ],
   "source": [
    "s=[]\n",
    "for k in range(1,7):\n",
    "    a=randint(1,46)\n",
    "    s.append(a)\n",
    "print(s)"
   ]
  },
  {
   "cell_type": "code",
   "execution_count": 45,
   "metadata": {},
   "outputs": [
    {
     "name": "stdout",
     "output_type": "stream",
     "text": [
      "성별 : 남자\n"
     ]
    }
   ],
   "source": [
    "jumin=\"990120-1234567\"\n",
    "if int(jumin[7])==1:\n",
    "    print(\"성별 : 남자\")"
   ]
  },
  {
   "cell_type": "code",
   "execution_count": 47,
   "metadata": {},
   "outputs": [
    {
     "name": "stdout",
     "output_type": "stream",
     "text": [
      "python is amazing\n",
      "PYTHON IS AMAZING\n",
      "True\n"
     ]
    }
   ],
   "source": [
    "python=\"Python is Amazing\"\n",
    "print(python.lower())\n",
    "print(python.upper())\n",
    "print(python[0].isupper())"
   ]
  },
  {
   "cell_type": "code",
   "execution_count": 51,
   "metadata": {},
   "outputs": [
    {
     "name": "stdout",
     "output_type": "stream",
     "text": [
      "나는 20살 입니다.\n",
      "나는 파이썬을 좋아해요.\n",
      "나는 파란색과 빨간색을 좋아해요\n"
     ]
    }
   ],
   "source": [
    "#방법1\n",
    "print(\"나는 %d살 입니다.\" %20)\n",
    "print(\"나는 %s을 좋아해요.\" %\"파이썬\")\n",
    "print(\"나는 %s색과 %s색을 좋아해요\" %(\"파란\",\"빨간\"))"
   ]
  },
  {
   "cell_type": "code",
   "execution_count": 54,
   "metadata": {},
   "outputs": [
    {
     "name": "stdout",
     "output_type": "stream",
     "text": [
      "나는 27살 입니다.\n",
      "나는 파란색과 빨간색을 좋아해요\n"
     ]
    }
   ],
   "source": [
    "#방법2\n",
    "print(\"나는 {}살 입니다.\".format(27))\n",
    "print(\"나는 {}색과 {}색을 좋아해요\" .format(\"파란\",\"빨간\"))"
   ]
  },
  {
   "cell_type": "code",
   "execution_count": 55,
   "metadata": {},
   "outputs": [
    {
     "name": "stdout",
     "output_type": "stream",
     "text": [
      "나는 20살이며, 빨간색을 좋아해요\n"
     ]
    }
   ],
   "source": [
    "#방법3\n",
    "age=20\n",
    "color=\"빨간\"\n",
    "print(f\"나는 {age}살이며, {color}색을 좋아해요\")\n"
   ]
  },
  {
   "cell_type": "code",
   "execution_count": 56,
   "metadata": {},
   "outputs": [
    {
     "name": "stdout",
     "output_type": "stream",
     "text": [
      "백문이 불여일견 \n",
      " 백견이 불여일타\n",
      "저는 '신창수'입니다.\n"
     ]
    }
   ],
   "source": [
    "#\\n : 줄바꿈\n",
    "print(\"백문이 불여일견 \\n 백견이 불여일타\")\n",
    "print(\"저는 '신창수'입니다.\")"
   ]
  },
  {
   "cell_type": "code",
   "execution_count": 57,
   "metadata": {},
   "outputs": [
    {
     "name": "stdout",
     "output_type": "stream",
     "text": [
      "PineApple\n"
     ]
    }
   ],
   "source": [
    "# \\r : 커서를 맨 앞으로 이동\n",
    "print(\"Red Apple\\rPine\")\n",
    "# 앞으로가서 pine으로 덮는 느낌인듯"
   ]
  },
  {
   "cell_type": "code",
   "execution_count": 59,
   "metadata": {},
   "outputs": [
    {
     "name": "stdout",
     "output_type": "stream",
     "text": [
      "RedApp\n"
     ]
    }
   ],
   "source": [
    " #\\b : 백스페이스 (한 글자 삭제)\n",
    "print(\"Redd\\bApp\")"
   ]
  },
  {
   "cell_type": "code",
   "execution_count": 60,
   "metadata": {},
   "outputs": [
    {
     "name": "stdout",
     "output_type": "stream",
     "text": [
      "Red\tApple\n"
     ]
    }
   ],
   "source": [
    "#\\t : 탭\n",
    "print(\"Red\\tApple\")"
   ]
  },
  {
   "cell_type": "code",
   "execution_count": 61,
   "metadata": {},
   "outputs": [
    {
     "data": {
      "text/plain": [
       "['딸기', '당근', '수박', '참외']"
      ]
     },
     "execution_count": 61,
     "metadata": {},
     "output_type": "execute_result"
    }
   ],
   "source": [
    "fruit=[\"딸기\",\"당근\",\"수박\"]\n",
    "fruit.append(\"참외\");fruit"
   ]
  },
  {
   "cell_type": "code",
   "execution_count": 62,
   "metadata": {},
   "outputs": [
    {
     "name": "stdout",
     "output_type": "stream",
     "text": [
      "['딸기', '메론', '당근', '수박', '참외']\n"
     ]
    }
   ],
   "source": [
    "fruit.insert(1,\"메론\") # 2번째 칸에 '메론' 삽입\n",
    "print(fruit)"
   ]
  },
  {
   "cell_type": "code",
   "execution_count": 63,
   "metadata": {},
   "outputs": [],
   "source": [
    "# fruit.pop() 뒤에서 부터 한 명씩 꺼냄"
   ]
  },
  {
   "cell_type": "code",
   "execution_count": 66,
   "metadata": {},
   "outputs": [
    {
     "name": "stdout",
     "output_type": "stream",
     "text": [
      "[8, 5, 4, 3, 2, 1]\n"
     ]
    }
   ],
   "source": [
    "#정렬\n",
    "num_list=[5,2,4,3,1,8]\n",
    "num_list.sort(reverse=True)\n",
    "print(num_list)"
   ]
  },
  {
   "cell_type": "code",
   "execution_count": 67,
   "metadata": {},
   "outputs": [
    {
     "name": "stdout",
     "output_type": "stream",
     "text": [
      "[1, 2, 3, 4, 5, 8]\n"
     ]
    }
   ],
   "source": [
    "num_list=[5,2,4,3,1,8]\n",
    "num_list.sort()\n",
    "print(num_list)"
   ]
  },
  {
   "cell_type": "code",
   "execution_count": 72,
   "metadata": {},
   "outputs": [
    {
     "name": "stdout",
     "output_type": "stream",
     "text": [
      "[5, 2, 4, 3, 1, '조세호', 20, True]\n"
     ]
    }
   ],
   "source": [
    "#리스트 확장/ 합치기\n",
    "num_list=[5,2,4,3,1]\n",
    "mix_list=[\"조세호\", 20, True]\n",
    "num_list.extend(mix_list)\n",
    "print(num_list)\n"
   ]
  },
  {
   "cell_type": "code",
   "execution_count": 74,
   "metadata": {},
   "outputs": [
    {
     "name": "stdout",
     "output_type": "stream",
     "text": [
      "롤\n",
      "크아\n"
     ]
    }
   ],
   "source": [
    "#딕셔너리\n",
    "cabinet={\"a\":\"롤\",\"b\":\"크아\",\"c\":\"스타\"}\n",
    "print(cabinet[\"a\"])\n",
    "print(cabinet[\"b\"])\n"
   ]
  },
  {
   "cell_type": "code",
   "execution_count": 76,
   "metadata": {},
   "outputs": [
    {
     "name": "stdout",
     "output_type": "stream",
     "text": [
      "{'a': '롤', 'b': '크아', 'c': '스타', 'd': '서든'}\n"
     ]
    }
   ],
   "source": [
    "#아이템item추가\n",
    "cabinet[\"d\"]=\"서든\"\n",
    "print(cabinet)"
   ]
  },
  {
   "cell_type": "code",
   "execution_count": 77,
   "metadata": {},
   "outputs": [
    {
     "name": "stdout",
     "output_type": "stream",
     "text": [
      "{'b': '크아', 'c': '스타', 'd': '서든'}\n"
     ]
    }
   ],
   "source": [
    "#아이템item삭제\n",
    "del cabinet[\"a\"]\n",
    "print(cabinet)"
   ]
  },
  {
   "cell_type": "code",
   "execution_count": 80,
   "metadata": {},
   "outputs": [
    {
     "name": "stdout",
     "output_type": "stream",
     "text": [
      "dict_keys(['b', 'c', 'd'])\n",
      "dict_values(['크아', '스타', '서든'])\n",
      "dict_items([('b', '크아'), ('c', '스타'), ('d', '서든')])\n"
     ]
    }
   ],
   "source": [
    "#key들만출력\n",
    "print(cabinet.keys())\n",
    "#value들만출력\n",
    "print(cabinet.values())\n",
    "#둘다출력\n",
    "print(cabinet.items())"
   ]
  },
  {
   "cell_type": "code",
   "execution_count": null,
   "metadata": {},
   "outputs": [],
   "source": [
    "#튜플(리스트와는 다르게 내용 변경 불가. 대신 속도가 빠름)\n",
    "menu=(\"돈까스\",\"치즈까스\")"
   ]
  },
  {
   "cell_type": "code",
   "execution_count": 83,
   "metadata": {},
   "outputs": [
    {
     "name": "stdout",
     "output_type": "stream",
     "text": [
      "{'주스', '커피', '우유'} <class 'set'>\n",
      "['주스', '커피', '우유'] <class 'list'>\n"
     ]
    }
   ],
   "source": [
    "#자료구조의 변경\n",
    "menu={\"커피\",\"우유\",\"주스\"}\n",
    "print(menu,type(menu))\n",
    "\n",
    "menu=list(menu) #리스트로 바꿈\n",
    "print(menu,type(menu))\n",
    "\n"
   ]
  },
  {
   "cell_type": "code",
   "execution_count": 87,
   "metadata": {},
   "outputs": [
    {
     "name": "stdout",
     "output_type": "stream",
     "text": [
      "대기번호:0\n",
      "대기번호:1\n",
      "대기번호:2\n",
      "대기번호:3\n",
      "대기번호:4\n"
     ]
    }
   ],
   "source": [
    "for waiting in [0,1,2,3,4]:\n",
    "    print(\"대기번호:{}\".format(waiting))"
   ]
  },
  {
   "cell_type": "code",
   "execution_count": 89,
   "metadata": {},
   "outputs": [
    {
     "name": "stdout",
     "output_type": "stream",
     "text": [
      "A,커피가 준비 되었습니다. 5번 남았어요\n",
      "A,커피가 준비 되었습니다. 4번 남았어요\n",
      "A,커피가 준비 되었습니다. 3번 남았어요\n",
      "A,커피가 준비 되었습니다. 2번 남았어요\n",
      "A,커피가 준비 되었습니다. 1번 남았어요\n",
      "커피 끝\n"
     ]
    }
   ],
   "source": [
    "#while\n",
    "customer=\"A\"\n",
    "index=5\n",
    "while index>=1:\n",
    "    print(\"{0},커피가 준비 되었습니다. {1}번 남았어요\".format(customer,index))\n",
    "    index -=1\n",
    "    if index==0:\n",
    "        print(\"커피 끝\")\n"
   ]
  },
  {
   "cell_type": "code",
   "execution_count": 90,
   "metadata": {},
   "outputs": [
    {
     "name": "stdout",
     "output_type": "stream",
     "text": [
      "1, 읽어봐\n",
      "3, 읽어봐\n",
      "4, 읽어봐\n",
      "6, 읽어봐\n",
      "7, 읽어봐\n",
      "8, 읽어봐\n",
      "9, 읽어봐\n",
      "10, 읽어봐\n"
     ]
    }
   ],
   "source": [
    "#continue 다음꺼하지말고 다시 반복문\n",
    "absent=[2,5] #결석\n",
    "for student in range(1,11):\n",
    "    if student in absent:\n",
    "        continue\n",
    "    print(\"{0}, 읽어봐\".format(student]))"
   ]
  },
  {
   "cell_type": "code",
   "execution_count": 91,
   "metadata": {},
   "outputs": [
    {
     "name": "stdout",
     "output_type": "stream",
     "text": [
      "[101, 102, 103, 104, 105]\n"
     ]
    }
   ],
   "source": [
    "students=[1,2,3,4,5]\n",
    "students=[i+100 for i in students]\n",
    "print(students)"
   ]
  },
  {
   "cell_type": "code",
   "execution_count": 92,
   "metadata": {},
   "outputs": [
    {
     "name": "stdout",
     "output_type": "stream",
     "text": [
      "[6, 7, 5]\n"
     ]
    }
   ],
   "source": [
    "students=[\"nndnnd\",\"sdxxasa\",\"sdsax\"]\n",
    "students=[len(i) for i in students]\n",
    "print(students)"
   ]
  },
  {
   "cell_type": "code",
   "execution_count": 94,
   "metadata": {},
   "outputs": [
    {
     "name": "stdout",
     "output_type": "stream",
     "text": [
      "[] 1번째 손님 (소요시간:23분\n",
      "[] 2번째 손님 (소요시간:35분\n",
      "[0] 3번째 손님 (소요시간:14분\n",
      "[] 4번째 손님 (소요시간:49분\n",
      "[] 5번째 손님 (소요시간:40분\n",
      "[0] 6번째 손님 (소요시간:11분\n",
      "[] 7번째 손님 (소요시간:48분\n",
      "[] 8번째 손님 (소요시간:35분\n",
      "[] 9번째 손님 (소요시간:49분\n",
      "[] 10번째 손님 (소요시간:37분\n",
      "[] 11번째 손님 (소요시간:50분\n",
      "[] 12번째 손님 (소요시간:35분\n",
      "[] 13번째 손님 (소요시간:21분\n",
      "[] 14번째 손님 (소요시간:41분\n",
      "[0] 15번째 손님 (소요시간:13분\n",
      "[] 16번째 손님 (소요시간:33분\n",
      "[] 17번째 손님 (소요시간:25분\n",
      "[0] 18번째 손님 (소요시간:10분\n",
      "[] 19번째 손님 (소요시간:40분\n",
      "[0] 20번째 손님 (소요시간:9분\n",
      "[0] 21번째 손님 (소요시간:11분\n",
      "[] 22번째 손님 (소요시간:46분\n",
      "[] 23번째 손님 (소요시간:49분\n",
      "[] 24번째 손님 (소요시간:38분\n",
      "[] 25번째 손님 (소요시간:28분\n",
      "[] 26번째 손님 (소요시간:45분\n",
      "[] 27번째 손님 (소요시간:17분\n",
      "[] 28번째 손님 (소요시간:43분\n",
      "[] 29번째 손님 (소요시간:44분\n",
      "[] 30번째 손님 (소요시간:40분\n",
      "[] 31번째 손님 (소요시간:38분\n",
      "[] 32번째 손님 (소요시간:31분\n",
      "[] 33번째 손님 (소요시간:27분\n",
      "[] 34번째 손님 (소요시간:19분\n",
      "[0] 35번째 손님 (소요시간:5분\n",
      "[0] 36번째 손님 (소요시간:11분\n",
      "[] 37번째 손님 (소요시간:42분\n",
      "[0] 38번째 손님 (소요시간:7분\n",
      "[] 39번째 손님 (소요시간:25분\n",
      "[] 40번째 손님 (소요시간:19분\n",
      "[] 41번째 손님 (소요시간:29분\n",
      "[] 42번째 손님 (소요시간:49분\n",
      "[] 43번째 손님 (소요시간:35분\n",
      "[] 44번째 손님 (소요시간:43분\n",
      "[] 45번째 손님 (소요시간:23분\n",
      "[] 46번째 손님 (소요시간:17분\n",
      "[] 47번째 손님 (소요시간:45분\n",
      "[] 48번째 손님 (소요시간:23분\n",
      "[] 49번째 손님 (소요시간:18분\n",
      "[] 50번째 손님 (소요시간:39분\n",
      "총 탑승 승객 : 9분\n"
     ]
    }
   ],
   "source": [
    "# 50명의 승객과 매칭 기회가 있을 때 총 탑승 승객 수를 구하는 프로그램을 작성하시오.\n",
    "# 조건1 : 승객 별 운행 소요 시간은  5분~50분 사이의 난수로 정해진다\n",
    "# 조건2 : 당신은 소요 시간 5분 ~ 15분 사이의 승객만 매칭해야 한다.\n",
    "from random import *\n",
    "cnt = 0 # 총 탑승 승객 수\n",
    "for i in range(1,51): # 1~50이라는 수 \n",
    "    time = randrange(5,51) # 5분 ~50분 소요시간\n",
    "    if 5<= time <= 15: # 5분~15분 이내의 손님, 탑승 승객 수 증가 처리\n",
    "        print(\"[0] {0}번째 손님 (소요시간:{1}분\".format(i,time))\n",
    "        cnt+=1\n",
    "    else: #매칭실패\n",
    "        print(\"[] {0}번째 손님 (소요시간:{1}분\".format(i,time))\n",
    "\n",
    "print(\"총 탑승 승객 : {0}분\".format(cnt))\n"
   ]
  },
  {
   "cell_type": "code",
   "execution_count": 104,
   "metadata": {},
   "outputs": [
    {
     "name": "stdout",
     "output_type": "stream",
     "text": [
      "전체 총 : 10\n",
      "함수 내 남은 총 : 8\n",
      "남은 총 : 8\n"
     ]
    }
   ],
   "source": [
    "#전역변수\n",
    "gun=10\n",
    "\n",
    "def checkpoint(soldiers):\n",
    "    global gun  \n",
    "    gun=gun-soldiers\n",
    "    print(\"함수 내 남은 총 : {0}\".format(gun))\n",
    "\n",
    "print(\"전체 총 : {0}\".format(gun))\n",
    "checkpoint(2)\n",
    "print(\"남은 총 : {0}\".format(gun))"
   ]
  },
  {
   "cell_type": "code",
   "execution_count": 105,
   "metadata": {},
   "outputs": [
    {
     "name": "stdout",
     "output_type": "stream",
     "text": [
      "남은 총은 6개\n",
      "남은 총 : 6\n"
     ]
    }
   ],
   "source": [
    "# 일반적으로 전역변수 많이쓰면 코드관리 어려움. 함수의 전달값으로 처리하는게 낫다\n",
    "def checkpoint_ret(gun,soldiers):\n",
    "    gun=gun-soldiers\n",
    "    print(\"남은 총은 {0}개\".format(gun))\n",
    "    return gun\n",
    "\n",
    "gun=checkpoint_ret(gun,2)\n",
    "print(\"남은 총 : {0}\".format(gun))"
   ]
  },
  {
   "cell_type": "code",
   "execution_count": 124,
   "metadata": {},
   "outputs": [],
   "source": [
    "def std_weight(height,gender):\n",
    "    if gender==\"남자\":\n",
    "        h=round(((height*0.01)**2)*22,2)\n",
    "        print(\"키 {0} 남자의 표준 체중은 {1}kg 입니다.\".format(height,h))\n",
    "        \n",
    "    elif gender!=\"남자\":\n",
    "        h=round(((height*0.01)**2)*21,2)\n",
    "        print(\"키 {0} 여자의 표준 체중은 {1}kg 입니다.\".format(height,h))\n",
    "    "
   ]
  },
  {
   "cell_type": "code",
   "execution_count": 125,
   "metadata": {},
   "outputs": [
    {
     "name": "stdout",
     "output_type": "stream",
     "text": [
      "키 175 남자의 표준 체중은 67.38kg 입니다.\n"
     ]
    }
   ],
   "source": [
    "std_weight(175,\"남자\")"
   ]
  },
  {
   "cell_type": "code",
   "execution_count": 128,
   "metadata": {},
   "outputs": [
    {
     "name": "stdout",
     "output_type": "stream",
     "text": [
      "jave , python\n",
      "jave v spython\n",
      "jave,python?둘다노잼\n"
     ]
    }
   ],
   "source": [
    "print(\"jave\",\"python\",sep=\" , \")\n",
    "print(\"jave\",\"python\",sep=\" v s\")\n",
    "\n",
    "\n",
    "print(\"jave\",\"python\",sep=\",\",end=\"?\") # end : 문장의 끝 부분을 \" \" 로 바꿔줘\n",
    "print(\"둘다노잼\")"
   ]
  },
  {
   "cell_type": "code",
   "execution_count": 129,
   "metadata": {},
   "outputs": [
    {
     "name": "stdout",
     "output_type": "stream",
     "text": [
      "python java\n"
     ]
    },
    {
     "name": "stderr",
     "output_type": "stream",
     "text": [
      "python java\n"
     ]
    }
   ],
   "source": [
    "import sys\n",
    "print(\"python\",\"java\",file=sys.stdout)\n",
    "print(\"python\",\"java\",file=sys.stderr)\n"
   ]
  },
  {
   "cell_type": "code",
   "execution_count": 130,
   "metadata": {},
   "outputs": [
    {
     "name": "stdout",
     "output_type": "stream",
     "text": [
      "수학 0\n",
      "영어 50\n",
      "코딩 100\n"
     ]
    }
   ],
   "source": [
    "scores={\"수학\":0,\"영어\":50,\"코딩\":100}\n",
    "for subject, score in scores.items(): #key와 value를 쌍으로 튜플로 보내줌\n",
    "        print(subject,score)"
   ]
  },
  {
   "cell_type": "code",
   "execution_count": 135,
   "metadata": {},
   "outputs": [
    {
     "name": "stdout",
     "output_type": "stream",
     "text": [
      "대기번호 : 001\n",
      "대기번호 : 002\n",
      "대기번호 : 003\n",
      "대기번호 : 004\n",
      "대기번호 : 005\n",
      "대기번호 : 006\n",
      "대기번호 : 007\n",
      "대기번호 : 008\n",
      "대기번호 : 009\n",
      "대기번호 : 010\n"
     ]
    }
   ],
   "source": [
    "for num in range(1,11):\n",
    "    print(\"대기번호 : \" + str(num).zfill(3)) # 빈 공간을 3칸으로 채우게 0으로 채워줌"
   ]
  },
  {
   "cell_type": "code",
   "execution_count": 143,
   "metadata": {},
   "outputs": [],
   "source": [
    "#txt파일생성\n",
    "score_file = open(\"score.txt\",\"w\",encoding=\"utf8\") #쓰기모드인듯\n",
    "print(\"수학 : 0\",file=score_file)\n",
    "print(\"영어 : 50\",file=score_file)\n",
    "score_file.close()"
   ]
  },
  {
   "cell_type": "code",
   "execution_count": 144,
   "metadata": {},
   "outputs": [],
   "source": [
    "score_file=open(\"score.txt\",\"a\",encoding=\"utf8\") #추가하는거인듯\n",
    "score_file.write(\"과학 : 80\")\n",
    "score_file.write(\"\\n코딩 : 100\")\n",
    "score_file.close()"
   ]
  },
  {
   "cell_type": "code",
   "execution_count": 145,
   "metadata": {},
   "outputs": [
    {
     "name": "stdout",
     "output_type": "stream",
     "text": [
      "수학 : 0\n",
      "영어 : 50\n",
      "과학 : 80\n",
      "코딩 : 100\n"
     ]
    }
   ],
   "source": [
    "score_file=open(\"score.txt\",\"r\",encoding=\"utf8\") #읽기모드인듯\n",
    "print(score_file.read())\n",
    "score_file.close()"
   ]
  },
  {
   "cell_type": "code",
   "execution_count": 146,
   "metadata": {},
   "outputs": [
    {
     "name": "stdout",
     "output_type": "stream",
     "text": [
      "수학 : 0\n",
      "\n",
      "영어 : 50\n",
      "\n",
      "과학 : 80\n",
      "\n",
      "코딩 : 100\n"
     ]
    }
   ],
   "source": [
    "score_file=open(\"score.txt\",\"r\",encoding=\"utf8\")\n",
    "print(score_file.readline()) #줄별로 읽기, 한 줄 읽고 커서는 다음 줄로 이동\n",
    "print(score_file.readline())\n",
    "print(score_file.readline())\n",
    "print(score_file.readline())\n",
    "score_file.close()"
   ]
  },
  {
   "cell_type": "code",
   "execution_count": 147,
   "metadata": {},
   "outputs": [
    {
     "name": "stdout",
     "output_type": "stream",
     "text": [
      "수학 : 0\n",
      "\n",
      "영어 : 50\n",
      "\n",
      "과학 : 80\n",
      "\n",
      "코딩 : 100\n"
     ]
    }
   ],
   "source": [
    "score_file=open(\"score.txt\",\"r\",encoding=\"utf8\") # 몇줄인지모를때는 이렇게하는방법이 있음\n",
    "while True:\n",
    "    line=score_file.readline()\n",
    "    if not line : \n",
    "        break\n",
    "    print(line)\n",
    "\n",
    "score_file.close()"
   ]
  },
  {
   "cell_type": "code",
   "execution_count": 148,
   "metadata": {},
   "outputs": [
    {
     "name": "stdout",
     "output_type": "stream",
     "text": [
      "수학 : 0\n",
      "영어 : 50\n",
      "과학 : 80\n",
      "코딩 : 100"
     ]
    }
   ],
   "source": [
    "score_file=open(\"score.txt\",\"r\",encoding=\"utf8\")\n",
    "lines=score_file.readlines() #list형태로 저장\n",
    "for line in lines :\n",
    "    print(line, end=\"\")\n",
    "\n",
    "score_file.close()"
   ]
  },
  {
   "cell_type": "code",
   "execution_count": 153,
   "metadata": {},
   "outputs": [
    {
     "name": "stdout",
     "output_type": "stream",
     "text": [
      "{'이름': '딸기', '나이': '30', '취미': ['축구', '골프', '코딩']}\n"
     ]
    }
   ],
   "source": [
    "#  pickle : 프로그램 상에서 사용하고 있는 데이터를 파일 형태로 저장하는 것\n",
    "import pickle\n",
    "import profile\n",
    "profile_file=open(\"profile.pickle\",\"wb\") # w:쓰기모드, b:피클을 쓰려면 binary 타입을 정의해줘야함\n",
    "profile={\"이름\":\"딸기\",\"나이\":\"30\",\"취미\":[\"축구\",\"골프\",\"코딩\"]} \n",
    "print(profile)\n",
    "pickle.dump(profile,profile_file) #profile에 있는 정보를 file에 저장\n",
    "profile_file.close()\n"
   ]
  },
  {
   "cell_type": "code",
   "execution_count": 154,
   "metadata": {},
   "outputs": [
    {
     "name": "stdout",
     "output_type": "stream",
     "text": [
      "{'이름': '딸기', '나이': '30', '취미': ['축구', '골프', '코딩']}\n"
     ]
    }
   ],
   "source": [
    "# 위의 파일에서 데이터를 가져오는 코드\n",
    "profile_file=open(\"profile.pickle\",\"rb\")\n",
    "profile=pickle.load(profile_file) #file에 있는 정보를 profile에 불러오기\n",
    "print(profile)\n",
    "profile_file.close()"
   ]
  },
  {
   "cell_type": "code",
   "execution_count": 158,
   "metadata": {},
   "outputs": [],
   "source": [
    "# with\n",
    "# close 할 필요없이 수월하게 가능\n",
    "with open(\"study.txt\",\"w\",encoding=\"utf8\") as study_file:\n",
    "    study_file.write(\"안녕안녕\")\n",
    "\n"
   ]
  },
  {
   "cell_type": "code",
   "execution_count": 159,
   "metadata": {},
   "outputs": [
    {
     "name": "stdout",
     "output_type": "stream",
     "text": [
      "안녕안녕\n"
     ]
    }
   ],
   "source": [
    "with open(\"study.txt\",\"r\",encoding=\"utf8\") as study_file:\n",
    "    print(study_file.read())\n"
   ]
  },
  {
   "cell_type": "code",
   "execution_count": 165,
   "metadata": {},
   "outputs": [
    {
     "name": "stdout",
     "output_type": "stream",
     "text": [
      "마린 유닛이 생성되었습니다.\n",
      "체력40, 공격력 5\n",
      "마린 유닛이 생성되었습니다.\n",
      "체력40, 공격력 5\n",
      "탱크 유닛이 생성되었습니다.\n",
      "체력150, 공격력 35\n"
     ]
    }
   ],
   "source": [
    "#class\n",
    "class Unit:\n",
    "    def __init__(self,name,hp,damage): # _ << 두개해줘야댐\n",
    "        self.name = name\n",
    "        self.hp = hp\n",
    "        self.damage = damage\n",
    "        print(\"{0} 유닛이 생성되었습니다.\".format(self.name))\n",
    "        print(\"체력{0}, 공격력 {1}\".format(self.hp,self.damage))\n",
    "\n",
    "marine1=Unit(\"마린\",40,5)\n",
    "marine2=Unit(\"마린\",40,5)\n",
    "tank=Unit(\"탱크\",150,35)"
   ]
  },
  {
   "cell_type": "code",
   "execution_count": null,
   "metadata": {},
   "outputs": [],
   "source": [
    "#init 상속 메소드 다중상속 등 따로 공부 ㄱ"
   ]
  },
  {
   "cell_type": "code",
   "execution_count": 3,
   "metadata": {},
   "outputs": [
    {
     "name": "stdout",
     "output_type": "stream",
     "text": [
      "나누기 전용 계산기입니다.\n",
      "division by zero\n"
     ]
    }
   ],
   "source": [
    "#예외처리\n",
    "try:\n",
    "    print(\"나누기 전용 계산기입니다.\")\n",
    "    num1=int(input(\"첫 번째 숫자를 입력하세요 : \"))\n",
    "    num2=int(input(\"두 번째 숫자를 입력하세요 : \"))\n",
    "    print(\"{0} / {1} = {2}\".format(num1,num2,int(num1/num2)))\n",
    "except ValueError:\n",
    "    print(\"에러! 잘못된 값을 입력하였습니다.\")\n",
    "except ZeroDivisionError as err:\n",
    "    print(err)\n"
   ]
  },
  {
   "cell_type": "code",
   "execution_count": 4,
   "metadata": {},
   "outputs": [
    {
     "name": "stdout",
     "output_type": "stream",
     "text": [
      "나누기 전용 계산기입니다.\n",
      "잘못된 값 입력함 한자리만 입력\n"
     ]
    }
   ],
   "source": [
    "#에러발생시키기\n",
    "try:\n",
    "    print(\"나누기 전용 계산기입니다.\")\n",
    "    num1=int(input(\"첫 번째 숫자를 입력하세요 : \"))\n",
    "    num2=int(input(\"두 번째 숫자를 입력하세요 : \"))\n",
    "    if num1>=10 or num2>=10:\n",
    "        raise ValueError\n",
    "    print(\"{0}/{1} ={2}\".format(num1,num2,int(num1/num2)))\n",
    "except ValueError:\n",
    "    print(\"잘못된 값 입력함 한자리만 입력\")"
   ]
  },
  {
   "cell_type": "code",
   "execution_count": 5,
   "metadata": {},
   "outputs": [],
   "source": [
    "#사용자정의예외처리\n",
    "#의도적으로 특정 에러를 발생시켜서 except부분으로 내리는것\n",
    "try:\n",
    "    print(\"나누기 전용 계산기입니다.\")\n",
    "    num1=int(input(\"첫 번째 숫자를 입력하세요 : \"))\n",
    "    num2=int(input(\"두 번째 숫자를 입력하세요 : \"))\n",
    "    if num1>=10 or num2>=10:\n",
    "        raise ValueError\n",
    "    print(\"{0}/{1} ={2}\".format(num1,num2,int(num1/num2)))\n",
    "except ValueError:\n",
    "    print(\"잘못된 값 입력함 한자리만 입력\")"
   ]
  },
  {
   "cell_type": "code",
   "execution_count": 6,
   "metadata": {},
   "outputs": [
    {
     "name": "stdout",
     "output_type": "stream",
     "text": [
      "나누기 전용 계산기입니다.\n",
      "에러발생. 한 자리만 입력\n"
     ]
    }
   ],
   "source": [
    "#사용자정의예외처리\n",
    "class BigNumberError(Exception):\n",
    "    pass \n",
    "try:\n",
    "    print(\"나누기 전용 계산기입니다.\")\n",
    "    num1=int(input(\"첫 번째 숫자를 입력하세요 : \"))\n",
    "    num2=int(input(\"두 번째 숫자를 입력하세요 : \"))\n",
    "    if num1>=10 or num2>=10:\n",
    "        raise BigNumberError\n",
    "    print(\"{0}/{1} ={2}\".format(num1,num2,int(num1/num2)))\n",
    "except ValueError:\n",
    "    print(\"잘못된 값 입력함 한자리만 입력\")\n",
    "except BigNumberError:\n",
    "    print(\"에러발생. 한 자리만 입력\")"
   ]
  },
  {
   "cell_type": "code",
   "execution_count": 7,
   "metadata": {},
   "outputs": [
    {
     "name": "stdout",
     "output_type": "stream",
     "text": [
      "나누기 전용 계산기입니다.\n",
      "에러발생. 한 자리만 입력\n",
      "고생!\n"
     ]
    }
   ],
   "source": [
    "#finally\n",
    "#사용자정의예외처리\n",
    "class BigNumberError(Exception):\n",
    "    pass \n",
    "try:\n",
    "    print(\"나누기 전용 계산기입니다.\")\n",
    "    num1=int(input(\"첫 번째 숫자를 입력하세요 : \"))\n",
    "    num2=int(input(\"두 번째 숫자를 입력하세요 : \"))\n",
    "    if num1>=10 or num2>=10:\n",
    "        raise BigNumberError\n",
    "    print(\"{0}/{1} ={2}\".format(num1,num2,int(num1/num2)))\n",
    "except ValueError:\n",
    "    print(\"잘못된 값 입력함 한자리만 입력\")\n",
    "except BigNumberError:\n",
    "    print(\"에러발생. 한 자리만 입력\")\n",
    "finally:\n",
    "    print(\"고생!\")"
   ]
  },
  {
   "cell_type": "code",
   "execution_count": 13,
   "metadata": {},
   "outputs": [
    {
     "name": "stdout",
     "output_type": "stream",
     "text": [
      "3명 가격은 30000원\n",
      "4명 조조 가격은 24000원\n",
      "5명 가격은 20000원\n"
     ]
    }
   ],
   "source": [
    "import theater_module \n",
    "theater_module.price(3)\n",
    "theater_module.price_mor(4)\n",
    "theater_module.price_sol(5)"
   ]
  },
  {
   "cell_type": "code",
   "execution_count": 12,
   "metadata": {},
   "outputs": [
    {
     "name": "stdout",
     "output_type": "stream",
     "text": [
      "3명 가격은 30000원\n",
      "4명 가격은 40000원\n"
     ]
    }
   ],
   "source": [
    "import theater_module as mv\n",
    "mv.price(3)\n",
    "mv.price(4)"
   ]
  },
  {
   "cell_type": "code",
   "execution_count": 14,
   "metadata": {},
   "outputs": [
    {
     "name": "stdout",
     "output_type": "stream",
     "text": [
      "3명 가격은 30000원\n",
      "4명 조조 가격은 24000원\n",
      "5명 가격은 20000원\n"
     ]
    }
   ],
   "source": [
    "from theater_module import *\n",
    "price(3)\n",
    "price_mor(4)\n",
    "price_sol(5)"
   ]
  },
  {
   "cell_type": "code",
   "execution_count": 20,
   "metadata": {},
   "outputs": [
    {
     "name": "stdout",
     "output_type": "stream",
     "text": [
      "3명 가격은 30000원\n",
      "4명 조조 가격은 24000원\n",
      "5명 가격은 20000원\n"
     ]
    }
   ],
   "source": [
    "from theater_module import price,price_mor\n",
    "price(3)\n",
    "price_mor(4)\n",
    "price_sol(5)"
   ]
  },
  {
   "cell_type": "code",
   "execution_count": 2,
   "metadata": {},
   "outputs": [],
   "source": [
    "# 인스톨 이거 안되면 우측 상단에 python 3.10.5 누르고 global 설정하자 "
   ]
  },
  {
   "cell_type": "code",
   "execution_count": 26,
   "metadata": {},
   "outputs": [
    {
     "name": "stdout",
     "output_type": "stream",
     "text": [
      "['/Users/sinchangsu/Desktop/Git/대학원', '/Users/sinchangsu/.vscode/extensions/ms-toolsai.jupyter-2022.5.1001601848/pythonFiles', '/Users/sinchangsu/.vscode/extensions/ms-toolsai.jupyter-2022.5.1001601848/pythonFiles/lib/python', '/Library/Developer/CommandLineTools/Library/Frameworks/Python3.framework/Versions/3.8/lib/python38.zip', '/Library/Developer/CommandLineTools/Library/Frameworks/Python3.framework/Versions/3.8/lib/python3.8', '/Library/Developer/CommandLineTools/Library/Frameworks/Python3.framework/Versions/3.8/lib/python3.8/lib-dynload', '', '/Users/sinchangsu/Library/Python/3.8/lib/python/site-packages', '/Library/Developer/CommandLineTools/Library/Frameworks/Python3.framework/Versions/3.8/lib/python3.8/site-packages']\n"
     ]
    }
   ],
   "source": [
    "import sys\n",
    "print(sys.path)"
   ]
  },
  {
   "cell_type": "code",
   "execution_count": 1,
   "metadata": {},
   "outputs": [],
   "source": [
    "import pandas as pd"
   ]
  },
  {
   "cell_type": "code",
   "execution_count": 3,
   "metadata": {},
   "outputs": [
    {
     "name": "stdout",
     "output_type": "stream",
     "text": [
      "/Users/sinchangsu/Desktop/Git/대학원\n"
     ]
    }
   ],
   "source": [
    "import os\n",
    "print(os.getcwd())"
   ]
  },
  {
   "cell_type": "code",
   "execution_count": null,
   "metadata": {},
   "outputs": [],
   "source": []
  }
 ],
 "metadata": {
  "kernelspec": {
   "display_name": "Python 3.10.5 64-bit",
   "language": "python",
   "name": "python3"
  },
  "language_info": {
   "codemirror_mode": {
    "name": "ipython",
    "version": 3
   },
   "file_extension": ".py",
   "mimetype": "text/x-python",
   "name": "python",
   "nbconvert_exporter": "python",
   "pygments_lexer": "ipython3",
   "version": "3.10.5"
  },
  "orig_nbformat": 4,
  "vscode": {
   "interpreter": {
    "hash": "aee8b7b246df8f9039afb4144a1f6fd8d2ca17a180786b69acc140d282b71a49"
   }
  }
 },
 "nbformat": 4,
 "nbformat_minor": 2
}
